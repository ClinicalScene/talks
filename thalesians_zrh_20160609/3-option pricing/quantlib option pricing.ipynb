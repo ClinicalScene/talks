{
 "cells": [
  {
   "cell_type": "markdown",
   "metadata": {},
   "source": [
    "# QuantLib"
   ]
  },
  {
   "cell_type": "code",
   "execution_count": null,
   "metadata": {
    "collapsed": true
   },
   "outputs": [],
   "source": [
    "import QuantLib as ql\n",
    "import datetime as dt"
   ]
  },
  {
   "cell_type": "markdown",
   "metadata": {},
   "source": [
    "## A simple calendar sample"
   ]
  },
  {
   "cell_type": "code",
   "execution_count": null,
   "metadata": {
    "collapsed": false
   },
   "outputs": [],
   "source": [
    "nyse = ql.UnitedStates(ql.UnitedStates.NYSE)\n",
    "fra = ql.Germany(ql.Germany.FrankfurtStockExchange)"
   ]
  },
  {
   "cell_type": "code",
   "execution_count": null,
   "metadata": {
    "collapsed": true
   },
   "outputs": [],
   "source": [
    "first_date = ql.Date(1,1,2016)\n",
    "second_date = ql.Date(1,6,2016)"
   ]
  },
  {
   "cell_type": "code",
   "execution_count": null,
   "metadata": {
    "collapsed": false
   },
   "outputs": [],
   "source": [
    "nyse.businessDaysBetween(first_date, second_date)"
   ]
  },
  {
   "cell_type": "code",
   "execution_count": null,
   "metadata": {
    "collapsed": false
   },
   "outputs": [],
   "source": [
    "fra.businessDaysBetween(first_date, second_date)"
   ]
  },
  {
   "cell_type": "markdown",
   "metadata": {},
   "source": [
    "## Option Pricing"
   ]
  },
  {
   "cell_type": "code",
   "execution_count": null,
   "metadata": {
    "collapsed": false
   },
   "outputs": [],
   "source": [
    "today = dt.datetime(2016, 5, 30)\n",
    "settlement = dt.datetime(2016, 6, 1)\n",
    "expiry = dt.datetime(2016, 9, 16)\n",
    "underlying = 100.35\n",
    "riskfree = 0.05\n",
    "vol = 0.20\n",
    "dividend_yield = 0.0\n",
    "option_type = 'call'\n",
    "strike = 100"
   ]
  },
  {
   "cell_type": "markdown",
   "metadata": {},
   "source": [
    "### Transform Dates"
   ]
  },
  {
   "cell_type": "code",
   "execution_count": null,
   "metadata": {
    "collapsed": false
   },
   "outputs": [],
   "source": [
    "today = ql.Date(today.day, today.month, today.year)\n",
    "settlement = ql.Date(settlement.day, settlement.month, settlement.year)\n",
    "expiry = ql.Date(expiry.day, expiry.month, expiry.year)\n",
    "ql.Settings.instance().evaluationDate = today"
   ]
  },
  {
   "cell_type": "markdown",
   "metadata": {},
   "source": [
    "### Market Data"
   ]
  },
  {
   "cell_type": "code",
   "execution_count": null,
   "metadata": {
    "collapsed": false
   },
   "outputs": [],
   "source": [
    "underlying = ql.SimpleQuote(underlying)\n",
    "r = ql.SimpleQuote(riskfree)\n",
    "q = ql.SimpleQuote(dividend_yield)\n",
    "vol = ql.SimpleQuote(vol)\n",
    "dcc = ql.Actual365Fixed()\n",
    "\n",
    "risk_free_curve = ql.FlatForward(settlement, ql.QuoteHandle(r), dcc)\n",
    "div_yield_curve = ql.FlatForward(settlement, ql.QuoteHandle(q), dcc)\n",
    "vol_curve = ql.BlackConstantVol(today, ql.UnitedStates(ql.UnitedStates.NYSE), ql.QuoteHandle(vol), dcc)"
   ]
  },
  {
   "cell_type": "markdown",
   "metadata": {},
   "source": [
    "### Instantiating the option"
   ]
  },
  {
   "cell_type": "code",
   "execution_count": null,
   "metadata": {
    "collapsed": true
   },
   "outputs": [],
   "source": [
    "exercise = ql.AmericanExercise(settlement, expiry)\n",
    "if option_type == 'call':\n",
    "    payoff = ql.PlainVanillaPayoff(type=ql.Option.Call, strike=strike)\n",
    "elif option_type == 'put':\n",
    "    payoff = ql.PlainVanillaPayoff(type=ql.Option.Put, strike=strike)\n",
    "\n",
    "option = ql.VanillaOption(payoff, exercise)"
   ]
  },
  {
   "cell_type": "markdown",
   "metadata": {},
   "source": [
    "### Price process"
   ]
  },
  {
   "cell_type": "code",
   "execution_count": null,
   "metadata": {
    "collapsed": true
   },
   "outputs": [],
   "source": [
    "process = ql.BlackScholesMertonProcess(s0=ql.QuoteHandle(underlying),\n",
    "                                       dividendTS=ql.YieldTermStructureHandle(div_yield_curve),\n",
    "                                       riskFreeTS=ql.YieldTermStructureHandle(risk_free_curve),\n",
    "                                       volTS=ql.BlackVolTermStructureHandle(vol_curve)\n",
    "                                       )"
   ]
  },
  {
   "cell_type": "markdown",
   "metadata": {},
   "source": [
    "### Calculation Methods\n",
    "* **Analytical**"
   ]
  },
  {
   "cell_type": "code",
   "execution_count": null,
   "metadata": {
    "collapsed": false
   },
   "outputs": [],
   "source": [
    "option.setPricingEngine(ql.BaroneAdesiWhaleyEngine(process))\n",
    "option.NPV()"
   ]
  },
  {
   "cell_type": "markdown",
   "metadata": {},
   "source": [
    "* **Binomial (Jarrow-Rudd)**"
   ]
  },
  {
   "cell_type": "code",
   "execution_count": null,
   "metadata": {
    "collapsed": false
   },
   "outputs": [],
   "source": [
    "option.setPricingEngine(ql.BinomialVanillaEngine(process, type='jr', steps=801))\n",
    "option.NPV()"
   ]
  },
  {
   "cell_type": "markdown",
   "metadata": {},
   "source": [
    " **... and many more:**"
   ]
  },
  {
   "cell_type": "markdown",
   "metadata": {},
   "source": [
    "* Black-Scholes (for european options only)\n",
    "* Barone-Adesi/Whaley (american-only)\n",
    "* Bjerksund/Stensland (american)\n",
    "* Integral (european)\n",
    "* Finite differences\n",
    "* Binomial Jarrow-Rudd\n",
    "* Binomial Cox-Ross-Rubinstein\n",
    "* Additive equiprobabilities\n",
    "* Binomial Trigeorgis\n",
    "* Binomial Tian\n",
    "* Binomial Leisen-Reimer\n",
    "* crude Monte Carlo (european-only)\n",
    "* Sobol-sequence Monte Carlo (european-only)"
   ]
  }
 ],
 "metadata": {
  "kernelspec": {
   "display_name": "Python 3",
   "language": "python",
   "name": "python3"
  },
  "language_info": {
   "codemirror_mode": {
    "name": "ipython",
    "version": 3
   },
   "file_extension": ".py",
   "mimetype": "text/x-python",
   "name": "python",
   "nbconvert_exporter": "python",
   "pygments_lexer": "ipython3",
   "version": "3.5.1"
  },
  "toc": {
   "toc_cell": false,
   "toc_number_sections": false,
   "toc_threshold": 6,
   "toc_window_display": false
  }
 },
 "nbformat": 4,
 "nbformat_minor": 0
}
