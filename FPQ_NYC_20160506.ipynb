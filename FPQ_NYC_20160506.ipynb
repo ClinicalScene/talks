{
 "cells": [
  {
   "cell_type": "markdown",
   "metadata": {},
   "source": [
    "# GDP per capita\n",
    "\n",
    "http://data.worldbank.org/indicator/NY.GDP.PCAP.CD  \n",
    "http://api.worldbank.org/v2/en/indicator/ny.gdp.pcap.cd?downloadformat=excel"
   ]
  },
  {
   "cell_type": "markdown",
   "metadata": {},
   "source": [
    "## Import the libraries"
   ]
  },
  {
   "cell_type": "code",
   "execution_count": 1,
   "metadata": {
    "collapsed": true
   },
   "outputs": [],
   "source": [
    "%matplotlib inline\n",
    "import numpy as np\n",
    "import pandas as pd\n",
    "import seaborn\n",
    "import xlwings as xw"
   ]
  },
  {
   "cell_type": "markdown",
   "metadata": {},
   "source": [
    "## Connect to the active Excel workbook (GDP_per_capita.xls)"
   ]
  },
  {
   "cell_type": "code",
   "execution_count": 3,
   "metadata": {
    "collapsed": false
   },
   "outputs": [
    {
     "data": {
      "text/plain": [
       "<Workbook 'GDP_per_capita.xls'>"
      ]
     },
     "execution_count": 3,
     "metadata": {},
     "output_type": "execute_result"
    }
   ],
   "source": [
    "wb = xw.Workbook.active()\n",
    "wb"
   ]
  },
  {
   "cell_type": "markdown",
   "metadata": {},
   "source": [
    "## Read the data"
   ]
  },
  {
   "cell_type": "code",
   "execution_count": 4,
   "metadata": {
    "collapsed": true
   },
   "outputs": [],
   "source": [
    "data = xw.Range(1, 'B4').options(pd.DataFrame,\n",
    "                                 expand='table').value"
   ]
  },
  {
   "cell_type": "code",
   "execution_count": 5,
   "metadata": {
    "collapsed": false
   },
   "outputs": [],
   "source": [
    "meta = xw.Range(2, 'A1:D1').options(pd.DataFrame,\n",
    "                                    expand='vertical',\n",
    "                                    index=False).value.set_index('Country Code')"
   ]
  },
  {
   "cell_type": "markdown",
   "metadata": {},
   "source": [
    "## Check it"
   ]
  },
  {
   "cell_type": "code",
   "execution_count": 6,
   "metadata": {
    "collapsed": false,
    "scrolled": true
   },
   "outputs": [
    {
     "data": {
      "text/html": [
       "<div>\n",
       "<table border=\"1\" class=\"dataframe\">\n",
       "  <thead>\n",
       "    <tr style=\"text-align: right;\">\n",
       "      <th></th>\n",
       "      <th>Indicator Name</th>\n",
       "      <th>Indicator Code</th>\n",
       "      <th>1960</th>\n",
       "      <th>1961</th>\n",
       "      <th>1962</th>\n",
       "      <th>1963</th>\n",
       "      <th>1964</th>\n",
       "      <th>1965</th>\n",
       "      <th>1966</th>\n",
       "      <th>1967</th>\n",
       "      <th>...</th>\n",
       "      <th>2006</th>\n",
       "      <th>2007</th>\n",
       "      <th>2008</th>\n",
       "      <th>2009</th>\n",
       "      <th>2010</th>\n",
       "      <th>2011</th>\n",
       "      <th>2012</th>\n",
       "      <th>2013</th>\n",
       "      <th>2014</th>\n",
       "      <th>2015</th>\n",
       "    </tr>\n",
       "    <tr>\n",
       "      <th>Country Code</th>\n",
       "      <th></th>\n",
       "      <th></th>\n",
       "      <th></th>\n",
       "      <th></th>\n",
       "      <th></th>\n",
       "      <th></th>\n",
       "      <th></th>\n",
       "      <th></th>\n",
       "      <th></th>\n",
       "      <th></th>\n",
       "      <th></th>\n",
       "      <th></th>\n",
       "      <th></th>\n",
       "      <th></th>\n",
       "      <th></th>\n",
       "      <th></th>\n",
       "      <th></th>\n",
       "      <th></th>\n",
       "      <th></th>\n",
       "      <th></th>\n",
       "      <th></th>\n",
       "    </tr>\n",
       "  </thead>\n",
       "  <tbody>\n",
       "    <tr>\n",
       "      <th>ABW</th>\n",
       "      <td>GDP per capita (current US$)</td>\n",
       "      <td>NY.GDP.PCAP.CD</td>\n",
       "      <td>NaN</td>\n",
       "      <td>NaN</td>\n",
       "      <td>NaN</td>\n",
       "      <td>NaN</td>\n",
       "      <td>NaN</td>\n",
       "      <td>NaN</td>\n",
       "      <td>NaN</td>\n",
       "      <td>NaN</td>\n",
       "      <td>...</td>\n",
       "      <td>24015.420612</td>\n",
       "      <td>25921.538234</td>\n",
       "      <td>27549.889422</td>\n",
       "      <td>24640.421244</td>\n",
       "      <td>24289.141516</td>\n",
       "      <td>25353.787545</td>\n",
       "      <td>NaN</td>\n",
       "      <td>NaN</td>\n",
       "      <td>NaN</td>\n",
       "      <td>NaN</td>\n",
       "    </tr>\n",
       "    <tr>\n",
       "      <th>AND</th>\n",
       "      <td>GDP per capita (current US$)</td>\n",
       "      <td>NY.GDP.PCAP.CD</td>\n",
       "      <td>NaN</td>\n",
       "      <td>NaN</td>\n",
       "      <td>NaN</td>\n",
       "      <td>NaN</td>\n",
       "      <td>NaN</td>\n",
       "      <td>NaN</td>\n",
       "      <td>NaN</td>\n",
       "      <td>NaN</td>\n",
       "      <td>...</td>\n",
       "      <td>42417.229146</td>\n",
       "      <td>47253.529796</td>\n",
       "      <td>46735.999575</td>\n",
       "      <td>42701.447136</td>\n",
       "      <td>39639.386021</td>\n",
       "      <td>41630.052579</td>\n",
       "      <td>39666.369215</td>\n",
       "      <td>42806.522553</td>\n",
       "      <td>NaN</td>\n",
       "      <td>NaN</td>\n",
       "    </tr>\n",
       "    <tr>\n",
       "      <th>AFG</th>\n",
       "      <td>GDP per capita (current US$)</td>\n",
       "      <td>NY.GDP.PCAP.CD</td>\n",
       "      <td>59.787681</td>\n",
       "      <td>59.890037</td>\n",
       "      <td>58.505995</td>\n",
       "      <td>78.802587</td>\n",
       "      <td>82.231395</td>\n",
       "      <td>101.321627</td>\n",
       "      <td>137.946783</td>\n",
       "      <td>161.384702</td>\n",
       "      <td>...</td>\n",
       "      <td>280.245644</td>\n",
       "      <td>380.400955</td>\n",
       "      <td>384.131681</td>\n",
       "      <td>458.955782</td>\n",
       "      <td>569.940729</td>\n",
       "      <td>622.379654</td>\n",
       "      <td>690.842629</td>\n",
       "      <td>666.795051</td>\n",
       "      <td>633.569247</td>\n",
       "      <td>NaN</td>\n",
       "    </tr>\n",
       "    <tr>\n",
       "      <th>AGO</th>\n",
       "      <td>GDP per capita (current US$)</td>\n",
       "      <td>NY.GDP.PCAP.CD</td>\n",
       "      <td>NaN</td>\n",
       "      <td>NaN</td>\n",
       "      <td>NaN</td>\n",
       "      <td>NaN</td>\n",
       "      <td>NaN</td>\n",
       "      <td>NaN</td>\n",
       "      <td>NaN</td>\n",
       "      <td>NaN</td>\n",
       "      <td>...</td>\n",
       "      <td>2825.073490</td>\n",
       "      <td>3402.145980</td>\n",
       "      <td>4462.125351</td>\n",
       "      <td>3565.181589</td>\n",
       "      <td>3928.824514</td>\n",
       "      <td>5053.738649</td>\n",
       "      <td>5531.776299</td>\n",
       "      <td>5900.529570</td>\n",
       "      <td>NaN</td>\n",
       "      <td>NaN</td>\n",
       "    </tr>\n",
       "    <tr>\n",
       "      <th>ALB</th>\n",
       "      <td>GDP per capita (current US$)</td>\n",
       "      <td>NY.GDP.PCAP.CD</td>\n",
       "      <td>NaN</td>\n",
       "      <td>NaN</td>\n",
       "      <td>NaN</td>\n",
       "      <td>NaN</td>\n",
       "      <td>NaN</td>\n",
       "      <td>NaN</td>\n",
       "      <td>NaN</td>\n",
       "      <td>NaN</td>\n",
       "      <td>...</td>\n",
       "      <td>3005.012903</td>\n",
       "      <td>3603.013685</td>\n",
       "      <td>4370.539647</td>\n",
       "      <td>4114.136545</td>\n",
       "      <td>4094.358832</td>\n",
       "      <td>4437.811999</td>\n",
       "      <td>4247.485437</td>\n",
       "      <td>4411.258241</td>\n",
       "      <td>4564.390339</td>\n",
       "      <td>NaN</td>\n",
       "    </tr>\n",
       "  </tbody>\n",
       "</table>\n",
       "<p>5 rows × 58 columns</p>\n",
       "</div>"
      ],
      "text/plain": [
       "                            Indicator Name  Indicator Code       1960  \\\n",
       "Country Code                                                            \n",
       "ABW           GDP per capita (current US$)  NY.GDP.PCAP.CD        NaN   \n",
       "AND           GDP per capita (current US$)  NY.GDP.PCAP.CD        NaN   \n",
       "AFG           GDP per capita (current US$)  NY.GDP.PCAP.CD  59.787681   \n",
       "AGO           GDP per capita (current US$)  NY.GDP.PCAP.CD        NaN   \n",
       "ALB           GDP per capita (current US$)  NY.GDP.PCAP.CD        NaN   \n",
       "\n",
       "                   1961       1962       1963       1964        1965  \\\n",
       "Country Code                                                           \n",
       "ABW                 NaN        NaN        NaN        NaN         NaN   \n",
       "AND                 NaN        NaN        NaN        NaN         NaN   \n",
       "AFG           59.890037  58.505995  78.802587  82.231395  101.321627   \n",
       "AGO                 NaN        NaN        NaN        NaN         NaN   \n",
       "ALB                 NaN        NaN        NaN        NaN         NaN   \n",
       "\n",
       "                    1966        1967  ...           2006          2007  \\\n",
       "Country Code                          ...                                \n",
       "ABW                  NaN         NaN  ...   24015.420612  25921.538234   \n",
       "AND                  NaN         NaN  ...   42417.229146  47253.529796   \n",
       "AFG           137.946783  161.384702  ...     280.245644    380.400955   \n",
       "AGO                  NaN         NaN  ...    2825.073490   3402.145980   \n",
       "ALB                  NaN         NaN  ...    3005.012903   3603.013685   \n",
       "\n",
       "                      2008          2009          2010          2011  \\\n",
       "Country Code                                                           \n",
       "ABW           27549.889422  24640.421244  24289.141516  25353.787545   \n",
       "AND           46735.999575  42701.447136  39639.386021  41630.052579   \n",
       "AFG             384.131681    458.955782    569.940729    622.379654   \n",
       "AGO            4462.125351   3565.181589   3928.824514   5053.738649   \n",
       "ALB            4370.539647   4114.136545   4094.358832   4437.811999   \n",
       "\n",
       "                      2012          2013         2014  2015  \n",
       "Country Code                                                 \n",
       "ABW                    NaN           NaN          NaN   NaN  \n",
       "AND           39666.369215  42806.522553          NaN   NaN  \n",
       "AFG             690.842629    666.795051   633.569247   NaN  \n",
       "AGO            5531.776299   5900.529570          NaN   NaN  \n",
       "ALB            4247.485437   4411.258241  4564.390339   NaN  \n",
       "\n",
       "[5 rows x 58 columns]"
      ]
     },
     "execution_count": 6,
     "metadata": {},
     "output_type": "execute_result"
    }
   ],
   "source": [
    "data.head()"
   ]
  },
  {
   "cell_type": "code",
   "execution_count": 7,
   "metadata": {
    "collapsed": false
   },
   "outputs": [
    {
     "data": {
      "text/html": [
       "<div>\n",
       "<table border=\"1\" class=\"dataframe\">\n",
       "  <thead>\n",
       "    <tr style=\"text-align: right;\">\n",
       "      <th></th>\n",
       "      <th>Country Name</th>\n",
       "      <th>Region</th>\n",
       "      <th>IncomeGroup</th>\n",
       "    </tr>\n",
       "    <tr>\n",
       "      <th>Country Code</th>\n",
       "      <th></th>\n",
       "      <th></th>\n",
       "      <th></th>\n",
       "    </tr>\n",
       "  </thead>\n",
       "  <tbody>\n",
       "    <tr>\n",
       "      <th>ABW</th>\n",
       "      <td>Aruba</td>\n",
       "      <td>Latin America &amp; Caribbean</td>\n",
       "      <td>High income: nonOECD</td>\n",
       "    </tr>\n",
       "    <tr>\n",
       "      <th>AFG</th>\n",
       "      <td>Afghanistan</td>\n",
       "      <td>South Asia</td>\n",
       "      <td>Low income</td>\n",
       "    </tr>\n",
       "    <tr>\n",
       "      <th>AGO</th>\n",
       "      <td>Angola</td>\n",
       "      <td>Sub-Saharan Africa</td>\n",
       "      <td>Upper middle income</td>\n",
       "    </tr>\n",
       "    <tr>\n",
       "      <th>ALB</th>\n",
       "      <td>Albania</td>\n",
       "      <td>Europe &amp; Central Asia</td>\n",
       "      <td>Upper middle income</td>\n",
       "    </tr>\n",
       "    <tr>\n",
       "      <th>AND</th>\n",
       "      <td>Andorra</td>\n",
       "      <td>Europe &amp; Central Asia</td>\n",
       "      <td>High income: nonOECD</td>\n",
       "    </tr>\n",
       "  </tbody>\n",
       "</table>\n",
       "</div>"
      ],
      "text/plain": [
       "             Country Name                     Region           IncomeGroup\n",
       "Country Code                                                              \n",
       "ABW                 Aruba  Latin America & Caribbean  High income: nonOECD\n",
       "AFG           Afghanistan                 South Asia            Low income\n",
       "AGO                Angola         Sub-Saharan Africa   Upper middle income\n",
       "ALB               Albania      Europe & Central Asia   Upper middle income\n",
       "AND               Andorra      Europe & Central Asia  High income: nonOECD"
      ]
     },
     "execution_count": 7,
     "metadata": {},
     "output_type": "execute_result"
    }
   ],
   "source": [
    "meta.head()"
   ]
  },
  {
   "cell_type": "markdown",
   "metadata": {},
   "source": [
    "## Joining"
   ]
  },
  {
   "cell_type": "code",
   "execution_count": 12,
   "metadata": {
    "collapsed": false
   },
   "outputs": [
    {
     "data": {
      "text/html": [
       "<div>\n",
       "<table border=\"1\" class=\"dataframe\">\n",
       "  <thead>\n",
       "    <tr style=\"text-align: right;\">\n",
       "      <th></th>\n",
       "      <th>Country Name</th>\n",
       "      <th>Region</th>\n",
       "      <th>IncomeGroup</th>\n",
       "      <th>Indicator Name</th>\n",
       "      <th>Indicator Code</th>\n",
       "      <th>1960</th>\n",
       "      <th>1961</th>\n",
       "      <th>1962</th>\n",
       "      <th>1963</th>\n",
       "      <th>1964</th>\n",
       "      <th>...</th>\n",
       "      <th>2006</th>\n",
       "      <th>2007</th>\n",
       "      <th>2008</th>\n",
       "      <th>2009</th>\n",
       "      <th>2010</th>\n",
       "      <th>2011</th>\n",
       "      <th>2012</th>\n",
       "      <th>2013</th>\n",
       "      <th>2014</th>\n",
       "      <th>2015</th>\n",
       "    </tr>\n",
       "    <tr>\n",
       "      <th>Country Code</th>\n",
       "      <th></th>\n",
       "      <th></th>\n",
       "      <th></th>\n",
       "      <th></th>\n",
       "      <th></th>\n",
       "      <th></th>\n",
       "      <th></th>\n",
       "      <th></th>\n",
       "      <th></th>\n",
       "      <th></th>\n",
       "      <th></th>\n",
       "      <th></th>\n",
       "      <th></th>\n",
       "      <th></th>\n",
       "      <th></th>\n",
       "      <th></th>\n",
       "      <th></th>\n",
       "      <th></th>\n",
       "      <th></th>\n",
       "      <th></th>\n",
       "      <th></th>\n",
       "    </tr>\n",
       "  </thead>\n",
       "  <tbody>\n",
       "    <tr>\n",
       "      <th>ABW</th>\n",
       "      <td>Aruba</td>\n",
       "      <td>Latin America &amp; Caribbean</td>\n",
       "      <td>High income: nonOECD</td>\n",
       "      <td>GDP per capita (current US$)</td>\n",
       "      <td>NY.GDP.PCAP.CD</td>\n",
       "      <td>NaN</td>\n",
       "      <td>NaN</td>\n",
       "      <td>NaN</td>\n",
       "      <td>NaN</td>\n",
       "      <td>NaN</td>\n",
       "      <td>...</td>\n",
       "      <td>24015.420612</td>\n",
       "      <td>25921.538234</td>\n",
       "      <td>27549.889422</td>\n",
       "      <td>24640.421244</td>\n",
       "      <td>24289.141516</td>\n",
       "      <td>25353.787545</td>\n",
       "      <td>NaN</td>\n",
       "      <td>NaN</td>\n",
       "      <td>NaN</td>\n",
       "      <td>NaN</td>\n",
       "    </tr>\n",
       "    <tr>\n",
       "      <th>AND</th>\n",
       "      <td>Andorra</td>\n",
       "      <td>Europe &amp; Central Asia</td>\n",
       "      <td>High income: nonOECD</td>\n",
       "      <td>GDP per capita (current US$)</td>\n",
       "      <td>NY.GDP.PCAP.CD</td>\n",
       "      <td>NaN</td>\n",
       "      <td>NaN</td>\n",
       "      <td>NaN</td>\n",
       "      <td>NaN</td>\n",
       "      <td>NaN</td>\n",
       "      <td>...</td>\n",
       "      <td>42417.229146</td>\n",
       "      <td>47253.529796</td>\n",
       "      <td>46735.999575</td>\n",
       "      <td>42701.447136</td>\n",
       "      <td>39639.386021</td>\n",
       "      <td>41630.052579</td>\n",
       "      <td>39666.369215</td>\n",
       "      <td>42806.522553</td>\n",
       "      <td>NaN</td>\n",
       "      <td>NaN</td>\n",
       "    </tr>\n",
       "    <tr>\n",
       "      <th>AFG</th>\n",
       "      <td>Afghanistan</td>\n",
       "      <td>South Asia</td>\n",
       "      <td>Low income</td>\n",
       "      <td>GDP per capita (current US$)</td>\n",
       "      <td>NY.GDP.PCAP.CD</td>\n",
       "      <td>59.787681</td>\n",
       "      <td>59.890037</td>\n",
       "      <td>58.505995</td>\n",
       "      <td>78.802587</td>\n",
       "      <td>82.231395</td>\n",
       "      <td>...</td>\n",
       "      <td>280.245644</td>\n",
       "      <td>380.400955</td>\n",
       "      <td>384.131681</td>\n",
       "      <td>458.955782</td>\n",
       "      <td>569.940729</td>\n",
       "      <td>622.379654</td>\n",
       "      <td>690.842629</td>\n",
       "      <td>666.795051</td>\n",
       "      <td>633.569247</td>\n",
       "      <td>NaN</td>\n",
       "    </tr>\n",
       "    <tr>\n",
       "      <th>AGO</th>\n",
       "      <td>Angola</td>\n",
       "      <td>Sub-Saharan Africa</td>\n",
       "      <td>Upper middle income</td>\n",
       "      <td>GDP per capita (current US$)</td>\n",
       "      <td>NY.GDP.PCAP.CD</td>\n",
       "      <td>NaN</td>\n",
       "      <td>NaN</td>\n",
       "      <td>NaN</td>\n",
       "      <td>NaN</td>\n",
       "      <td>NaN</td>\n",
       "      <td>...</td>\n",
       "      <td>2825.073490</td>\n",
       "      <td>3402.145980</td>\n",
       "      <td>4462.125351</td>\n",
       "      <td>3565.181589</td>\n",
       "      <td>3928.824514</td>\n",
       "      <td>5053.738649</td>\n",
       "      <td>5531.776299</td>\n",
       "      <td>5900.529570</td>\n",
       "      <td>NaN</td>\n",
       "      <td>NaN</td>\n",
       "    </tr>\n",
       "    <tr>\n",
       "      <th>ALB</th>\n",
       "      <td>Albania</td>\n",
       "      <td>Europe &amp; Central Asia</td>\n",
       "      <td>Upper middle income</td>\n",
       "      <td>GDP per capita (current US$)</td>\n",
       "      <td>NY.GDP.PCAP.CD</td>\n",
       "      <td>NaN</td>\n",
       "      <td>NaN</td>\n",
       "      <td>NaN</td>\n",
       "      <td>NaN</td>\n",
       "      <td>NaN</td>\n",
       "      <td>...</td>\n",
       "      <td>3005.012903</td>\n",
       "      <td>3603.013685</td>\n",
       "      <td>4370.539647</td>\n",
       "      <td>4114.136545</td>\n",
       "      <td>4094.358832</td>\n",
       "      <td>4437.811999</td>\n",
       "      <td>4247.485437</td>\n",
       "      <td>4411.258241</td>\n",
       "      <td>4564.390339</td>\n",
       "      <td>NaN</td>\n",
       "    </tr>\n",
       "  </tbody>\n",
       "</table>\n",
       "<p>5 rows × 61 columns</p>\n",
       "</div>"
      ],
      "text/plain": [
       "             Country Name                     Region           IncomeGroup  \\\n",
       "Country Code                                                                 \n",
       "ABW                 Aruba  Latin America & Caribbean  High income: nonOECD   \n",
       "AND               Andorra      Europe & Central Asia  High income: nonOECD   \n",
       "AFG           Afghanistan                 South Asia            Low income   \n",
       "AGO                Angola         Sub-Saharan Africa   Upper middle income   \n",
       "ALB               Albania      Europe & Central Asia   Upper middle income   \n",
       "\n",
       "                            Indicator Name  Indicator Code       1960  \\\n",
       "Country Code                                                            \n",
       "ABW           GDP per capita (current US$)  NY.GDP.PCAP.CD        NaN   \n",
       "AND           GDP per capita (current US$)  NY.GDP.PCAP.CD        NaN   \n",
       "AFG           GDP per capita (current US$)  NY.GDP.PCAP.CD  59.787681   \n",
       "AGO           GDP per capita (current US$)  NY.GDP.PCAP.CD        NaN   \n",
       "ALB           GDP per capita (current US$)  NY.GDP.PCAP.CD        NaN   \n",
       "\n",
       "                   1961       1962       1963       1964  ...           2006  \\\n",
       "Country Code                                              ...                  \n",
       "ABW                 NaN        NaN        NaN        NaN  ...   24015.420612   \n",
       "AND                 NaN        NaN        NaN        NaN  ...   42417.229146   \n",
       "AFG           59.890037  58.505995  78.802587  82.231395  ...     280.245644   \n",
       "AGO                 NaN        NaN        NaN        NaN  ...    2825.073490   \n",
       "ALB                 NaN        NaN        NaN        NaN  ...    3005.012903   \n",
       "\n",
       "                      2007          2008          2009          2010  \\\n",
       "Country Code                                                           \n",
       "ABW           25921.538234  27549.889422  24640.421244  24289.141516   \n",
       "AND           47253.529796  46735.999575  42701.447136  39639.386021   \n",
       "AFG             380.400955    384.131681    458.955782    569.940729   \n",
       "AGO            3402.145980   4462.125351   3565.181589   3928.824514   \n",
       "ALB            3603.013685   4370.539647   4114.136545   4094.358832   \n",
       "\n",
       "                      2011          2012          2013         2014  2015  \n",
       "Country Code                                                               \n",
       "ABW           25353.787545           NaN           NaN          NaN   NaN  \n",
       "AND           41630.052579  39666.369215  42806.522553          NaN   NaN  \n",
       "AFG             622.379654    690.842629    666.795051   633.569247   NaN  \n",
       "AGO            5053.738649   5531.776299   5900.529570          NaN   NaN  \n",
       "ALB            4437.811999   4247.485437   4411.258241  4564.390339   NaN  \n",
       "\n",
       "[5 rows x 61 columns]"
      ]
     },
     "execution_count": 12,
     "metadata": {},
     "output_type": "execute_result"
    }
   ],
   "source": [
    "combined = pd.concat([meta, data],\n",
    "                     axis=1,\n",
    "                     join='inner')\n",
    "combined.head()"
   ]
  },
  {
   "cell_type": "markdown",
   "metadata": {},
   "source": [
    "## Quick view"
   ]
  },
  {
   "cell_type": "code",
   "execution_count": 9,
   "metadata": {
    "collapsed": true
   },
   "outputs": [],
   "source": [
    "xw.view(combined)"
   ]
  },
  {
   "cell_type": "markdown",
   "metadata": {},
   "source": [
    "## Summary Statistics"
   ]
  },
  {
   "cell_type": "code",
   "execution_count": 10,
   "metadata": {
    "collapsed": false,
    "scrolled": true
   },
   "outputs": [
    {
     "data": {
      "text/html": [
       "<div>\n",
       "<table border=\"1\" class=\"dataframe\">\n",
       "  <thead>\n",
       "    <tr style=\"text-align: right;\">\n",
       "      <th></th>\n",
       "      <th>count</th>\n",
       "      <th>mean</th>\n",
       "      <th>std</th>\n",
       "      <th>min</th>\n",
       "      <th>25%</th>\n",
       "      <th>50%</th>\n",
       "      <th>75%</th>\n",
       "      <th>max</th>\n",
       "    </tr>\n",
       "    <tr>\n",
       "      <th>Region</th>\n",
       "      <th></th>\n",
       "      <th></th>\n",
       "      <th></th>\n",
       "      <th></th>\n",
       "      <th></th>\n",
       "      <th></th>\n",
       "      <th></th>\n",
       "      <th></th>\n",
       "    </tr>\n",
       "  </thead>\n",
       "  <tbody>\n",
       "    <tr>\n",
       "      <th>East Asia &amp; Pacific</th>\n",
       "      <td>30.0</td>\n",
       "      <td>16374.255832</td>\n",
       "      <td>23535.502908</td>\n",
       "      <td>1094.576688</td>\n",
       "      <td>2419.247079</td>\n",
       "      <td>4121.683521</td>\n",
       "      <td>23947.790813</td>\n",
       "      <td>96038.050724</td>\n",
       "    </tr>\n",
       "    <tr>\n",
       "      <th>Europe &amp; Central Asia</th>\n",
       "      <td>49.0</td>\n",
       "      <td>26186.051959</td>\n",
       "      <td>26454.656191</td>\n",
       "      <td>1114.007483</td>\n",
       "      <td>7378.463950</td>\n",
       "      <td>15719.242021</td>\n",
       "      <td>46331.977410</td>\n",
       "      <td>116664.262488</td>\n",
       "    </tr>\n",
       "    <tr>\n",
       "      <th>Latin America &amp; Caribbean</th>\n",
       "      <td>31.0</td>\n",
       "      <td>8947.742480</td>\n",
       "      <td>5495.213680</td>\n",
       "      <td>824.159773</td>\n",
       "      <td>4772.000432</td>\n",
       "      <td>7647.529548</td>\n",
       "      <td>12229.191130</td>\n",
       "      <td>22217.494139</td>\n",
       "    </tr>\n",
       "    <tr>\n",
       "      <th>Middle East &amp; North Africa</th>\n",
       "      <td>18.0</td>\n",
       "      <td>19156.275747</td>\n",
       "      <td>24096.033452</td>\n",
       "      <td>1813.596566</td>\n",
       "      <td>4671.166545</td>\n",
       "      <td>6496.879535</td>\n",
       "      <td>24681.651362</td>\n",
       "      <td>96732.402545</td>\n",
       "    </tr>\n",
       "    <tr>\n",
       "      <th>North America</th>\n",
       "      <td>2.0</td>\n",
       "      <td>52432.440338</td>\n",
       "      <td>3107.104737</td>\n",
       "      <td>50235.385509</td>\n",
       "      <td>51333.912923</td>\n",
       "      <td>52432.440338</td>\n",
       "      <td>53530.967753</td>\n",
       "      <td>54629.495168</td>\n",
       "    </tr>\n",
       "    <tr>\n",
       "      <th>South Asia</th>\n",
       "      <td>8.0</td>\n",
       "      <td>2416.915612</td>\n",
       "      <td>2361.006745</td>\n",
       "      <td>633.569247</td>\n",
       "      <td>990.525325</td>\n",
       "      <td>1449.062406</td>\n",
       "      <td>2875.165464</td>\n",
       "      <td>7635.484151</td>\n",
       "    </tr>\n",
       "    <tr>\n",
       "      <th>Sub-Saharan Africa</th>\n",
       "      <td>45.0</td>\n",
       "      <td>2616.116266</td>\n",
       "      <td>4012.709964</td>\n",
       "      <td>255.044570</td>\n",
       "      <td>585.622683</td>\n",
       "      <td>1024.668452</td>\n",
       "      <td>1875.843287</td>\n",
       "      <td>18918.276831</td>\n",
       "    </tr>\n",
       "  </tbody>\n",
       "</table>\n",
       "</div>"
      ],
      "text/plain": [
       "                            count          mean           std           min  \\\n",
       "Region                                                                        \n",
       "East Asia & Pacific          30.0  16374.255832  23535.502908   1094.576688   \n",
       "Europe & Central Asia        49.0  26186.051959  26454.656191   1114.007483   \n",
       "Latin America & Caribbean    31.0   8947.742480   5495.213680    824.159773   \n",
       "Middle East & North Africa   18.0  19156.275747  24096.033452   1813.596566   \n",
       "North America                 2.0  52432.440338   3107.104737  50235.385509   \n",
       "South Asia                    8.0   2416.915612   2361.006745    633.569247   \n",
       "Sub-Saharan Africa           45.0   2616.116266   4012.709964    255.044570   \n",
       "\n",
       "                                     25%           50%           75%  \\\n",
       "Region                                                                 \n",
       "East Asia & Pacific          2419.247079   4121.683521  23947.790813   \n",
       "Europe & Central Asia        7378.463950  15719.242021  46331.977410   \n",
       "Latin America & Caribbean    4772.000432   7647.529548  12229.191130   \n",
       "Middle East & North Africa   4671.166545   6496.879535  24681.651362   \n",
       "North America               51333.912923  52432.440338  53530.967753   \n",
       "South Asia                    990.525325   1449.062406   2875.165464   \n",
       "Sub-Saharan Africa            585.622683   1024.668452   1875.843287   \n",
       "\n",
       "                                      max  \n",
       "Region                                     \n",
       "East Asia & Pacific          96038.050724  \n",
       "Europe & Central Asia       116664.262488  \n",
       "Latin America & Caribbean    22217.494139  \n",
       "Middle East & North Africa   96732.402545  \n",
       "North America                54629.495168  \n",
       "South Asia                    7635.484151  \n",
       "Sub-Saharan Africa           18918.276831  "
      ]
     },
     "execution_count": 10,
     "metadata": {},
     "output_type": "execute_result"
    }
   ],
   "source": [
    "regions = combined.groupby('Region')['2014']\n",
    "summary = regions.describe().unstack()\n",
    "summary"
   ]
  },
  {
   "cell_type": "markdown",
   "metadata": {},
   "source": [
    "## Plotting"
   ]
  },
  {
   "cell_type": "code",
   "execution_count": 11,
   "metadata": {
    "collapsed": false
   },
   "outputs": [
    {
     "data": {
      "image/png": "[encoded data removed]",
      "text/plain": [
       "<matplotlib.figure.Figure at 0x11c403e80>"
      ]
     },
     "metadata": {},
     "output_type": "display_data"
    }
   ],
   "source": [
    "unstacked = combined.set_index([combined.index,\n",
    "                                'Region'])['2014'].unstack().drop(np.nan, 1)\n",
    "ax = unstacked.plot(kind='box',\n",
    "                    rot=90,\n",
    "                    ylim=(0, 100000),\n",
    "                    return_type='axes')"
   ]
  },
  {
   "cell_type": "markdown",
   "metadata": {},
   "source": [
    "## Write the results back to Excel"
   ]
  },
  {
   "cell_type": "code",
   "execution_count": null,
   "metadata": {
    "collapsed": false
   },
   "outputs": [],
   "source": [
    "xw.Sheet.add('2014', wkb=wb)"
   ]
  },
  {
   "cell_type": "code",
   "execution_count": null,
   "metadata": {
    "collapsed": false
   },
   "outputs": [],
   "source": [
    "xw.Range('A1').value = 'GDP per capita 2014'\n",
    "xw.Range('A2').value = summary.round(2)"
   ]
  },
  {
   "cell_type": "code",
   "execution_count": null,
   "metadata": {
    "collapsed": true
   },
   "outputs": [],
   "source": [
    "xw.Sheet('2014').autofit()"
   ]
  },
  {
   "cell_type": "code",
   "execution_count": null,
   "metadata": {
    "collapsed": false
   },
   "outputs": [],
   "source": [
    "fig = ax.get_figure()\n",
    "xw.Plot(fig).show('GDP_PC_2014',\n",
    "                  top=xw.Range('A12').top,\n",
    "                  wkb=wb)"
   ]
  },
  {
   "cell_type": "code",
   "execution_count": null,
   "metadata": {
    "collapsed": true
   },
   "outputs": [],
   "source": []
  }
 ],
 "metadata": {
  "kernelspec": {
   "display_name": "Python 3",
   "language": "python",
   "name": "python3"
  },
  "language_info": {
   "codemirror_mode": {
    "name": "ipython",
    "version": 3
   },
   "file_extension": ".py",
   "mimetype": "text/x-python",
   "name": "python",
   "nbconvert_exporter": "python",
   "pygments_lexer": "ipython3",
   "version": "3.5.1"
  },
  "toc": {
   "toc_cell": false,
   "toc_number_sections": false,
   "toc_section_display": "none",
   "toc_threshold": 6,
   "toc_window_display": false
  }
 },
 "nbformat": 4,
 "nbformat_minor": 0
}
